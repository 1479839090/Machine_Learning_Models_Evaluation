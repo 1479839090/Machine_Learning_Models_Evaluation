{
  "cells": [
    {
      "cell_type": "markdown",
      "metadata": {
        "id": "yeIXFfAumNWV"
      },
      "source": [
        "# Deep Learning Models Comparison On CIFAR10 Dataset Using Cross Validation\n",
        "The code in this file compares the performance between ResNet18 and my own CNN model on CIFAR10 dataset using corss validation"
      ]
    },
    {
      "cell_type": "code",
      "execution_count": null,
      "metadata": {
        "colab": {
          "base_uri": "https://localhost:8080/"
        },
        "id": "_BD5dqNGm1b6",
        "outputId": "4bd3bdf3-0a90-41f1-eec4-a5c7a19e41df"
      },
      "outputs": [
        {
          "output_type": "stream",
          "name": "stdout",
          "text": [
            "Mounted at /content/gdrive\n"
          ]
        }
      ],
      "source": [
        "from google.colab import drive\n",
        "drive.mount('/content/gdrive')"
      ]
    },
    {
      "cell_type": "code",
      "execution_count": null,
      "metadata": {
        "colab": {
          "base_uri": "https://localhost:8080/",
          "height": 1000
        },
        "id": "qU2Wjz4n0JsI",
        "outputId": "28eb0138-cefe-490b-db8d-9dad37e04de1"
      },
      "outputs": [
        {
          "name": "stderr",
          "output_type": "stream",
          "text": [
            "UsageError: Cell magic `%%shell` not found.\n"
          ]
        }
      ],
      "source": [
        "%%shell\n",
        "jupyter nbconvert --to html ///content/HW4.ipynb"
      ]
    },
    {
      "cell_type": "code",
      "execution_count": null,
      "metadata": {
        "colab": {
          "base_uri": "https://localhost:8080/"
        },
        "id": "J3HggVCdm8iV",
        "outputId": "255d4dd1-ced9-46e3-dec0-18b7b5b4be92"
      },
      "outputs": [
        {
          "output_type": "stream",
          "name": "stdout",
          "text": [
            "/content/gdrive/MyDrive/Colab Notebooks/HW4_Full\n"
          ]
        }
      ],
      "source": [
        "\n",
        "%cd gdrive/MyDrive/Colab\\ Notebooks/HW4_Full"
      ]
    },
    {
      "cell_type": "code",
      "execution_count": null,
      "metadata": {
        "id": "75XndHcNuL0r",
        "colab": {
          "base_uri": "https://localhost:8080/"
        },
        "outputId": "36b2c090-22c6-4207-b3d8-71c71e5ef43f"
      },
      "outputs": [
        {
          "output_type": "stream",
          "name": "stdout",
          "text": [
            "Collecting torch_utils\n",
            "  Downloading torch-utils-0.1.2.tar.gz (4.9 kB)\n",
            "Requirement already satisfied: torch in /usr/local/lib/python3.7/dist-packages (from torch_utils) (1.10.0+cu111)\n",
            "Requirement already satisfied: typing-extensions in /usr/local/lib/python3.7/dist-packages (from torch->torch_utils) (3.10.0.2)\n",
            "Building wheels for collected packages: torch-utils\n",
            "  Building wheel for torch-utils (setup.py) ... \u001b[?25l\u001b[?25hdone\n",
            "  Created wheel for torch-utils: filename=torch_utils-0.1.2-py3-none-any.whl size=6202 sha256=e77c0d25a5ffd36bc67fc7bf9500fe670fecdf5899f8c9a4188e93cd92672361\n",
            "  Stored in directory: /root/.cache/pip/wheels/5d/c0/1d/a539c1c2a4d41c5d7109899289cded24fe1320b6a6c7b02a4c\n",
            "Successfully built torch-utils\n",
            "Installing collected packages: torch-utils\n",
            "Successfully installed torch-utils-0.1.2\n"
          ]
        }
      ],
      "source": [
        "! pip install torch_utils"
      ]
    },
    {
      "cell_type": "code",
      "execution_count": null,
      "metadata": {
        "id": "v4wg5xqcxNEi"
      },
      "outputs": [],
      "source": [
        "from IPython.core.interactiveshell import InteractiveShell\n",
        "InteractiveShell.ast_node_interactivity = \"all\"\n",
        "\n",
        "# import modules\n",
        "import pandas as pd\n",
        "import numpy as np\n",
        "import matplotlib.pyplot as plt\n",
        "import torch\n",
        "from torch import cuda\n",
        "import torch.nn as nn\n",
        "from torch.utils.data import TensorDataset, DataLoader, sampler\n",
        "import torch.nn.functional as F\n",
        "from torch_utils import AverageMeter\n",
        "import math\n",
        "import matplotlib.pyplot as plt\n",
        "from sklearn.metrics import mean_squared_error\n",
        "from numpy import inf\n",
        "import torchvision.datasets as datasets\n",
        "\n",
        "from sklearn.model_selection import train_test_split\n",
        "import os\n",
        "from glob import glob\n",
        "from torchvision import transforms\n",
        "from torchvision import datasets\n",
        "from torchvision import models\n",
        "from torch import optim, cuda, Tensor\n",
        "import tqdm\n",
        "\n",
        "# Data science tools\n",
        "import numpy as np\n",
        "\n",
        "import os\n",
        "\n",
        "# Image manipulations\n",
        "from PIL import Image\n",
        "from timeit import default_timer as timer\n",
        "\n",
        "# Visualizations\n",
        "import matplotlib.pyplot as plt\n",
        "#plt.rcParams['font.size'] = 14\n",
        "\n",
        "import warnings\n",
        "warnings.filterwarnings('ignore', category=FutureWarning)"
      ]
    },
    {
      "cell_type": "markdown",
      "metadata": {
        "id": "Ck08UYlKcGtk"
      },
      "source": [
        "#Training Method\n"
      ]
    },
    {
      "cell_type": "code",
      "execution_count": null,
      "metadata": {
        "id": "vw16i2tlOcbt"
      },
      "outputs": [],
      "source": [
        "def train(model,\n",
        "          criterion,\n",
        "          optimizer,\n",
        "          train_loader,\n",
        "          valid_loader,\n",
        "          save_file_name,\n",
        "          max_epochs_stop=3,\n",
        "          n_epochs=10,\n",
        "          print_every=1):\n",
        "    \"\"\"Train a PyTorch Model\n",
        "\n",
        "    Params\n",
        "    --------\n",
        "        model (PyTorch model): cnn to train\n",
        "        criterion (PyTorch loss): objective to minimize\n",
        "        optimizer (PyTorch optimizier): optimizer to compute gradients of model parameters\n",
        "        train_loader (PyTorch dataloader): training dataloader to iterate through\n",
        "        valid_loader (PyTorch dataloader): validation dataloader used for early stopping\n",
        "        save_file_name (str ending in '.pt'): file path to save the model state dict\n",
        "        max_epochs_stop (int): maximum number of epochs with no improvement in validation loss for early stopping\n",
        "        n_epochs (int): maximum number of training epochs\n",
        "        print_every (int): frequency of epochs to print training stats\n",
        "\n",
        "    Returns\n",
        "    --------\n",
        "        model (PyTorch model): trained cnn with best weights\n",
        "        history (DataFrame): history of train and validation loss and accuracy\n",
        "    \"\"\"\n",
        "\n",
        "    # Early stopping intialization\n",
        "    epochs_no_improve = 0\n",
        "    valid_loss_min = np.Inf\n",
        "    valid_max_acc = 0\n",
        "    history = []\n",
        "\n",
        "    # Number of epochs already trained (if using loaded in model weights)\n",
        "    try:\n",
        "        print(f'Model has been trained for: {model.epochs} epochs.\\n')\n",
        "    except:\n",
        "        model.epochs = 0\n",
        "        print(f'Starting Training from Scratch.\\n')\n",
        "\n",
        "    overall_start = timer()\n",
        "\n",
        "    # Main loop\n",
        "    for epoch in range(n_epochs):\n",
        "\n",
        "        # keep track of training and validation loss each epoch\n",
        "        train_loss = 0.0\n",
        "        valid_loss = 0.0\n",
        "\n",
        "        train_acc = 0\n",
        "        valid_acc = 0\n",
        "\n",
        "        # Set to training\n",
        "        model.train()\n",
        "\n",
        "        start = timer()\n",
        "        # Training loop\n",
        "        for ii, (data, target) in enumerate(train_loader):\n",
        "            \n",
        "            # Tensors to gpu, both model parameters, data, and target need to be tensors.\n",
        "            # You can use .cuda() function\n",
        "            ######################\n",
        "            ### YOUR CODE HERE ###\n",
        "            ######################\n",
        "            model.cuda()\n",
        "            data = data.cuda()\n",
        "            target = target.cuda()\n",
        "            #####################\n",
        "            ### YOUR CODE END ###\n",
        "            #####################\n",
        "\n",
        "            # Clear gradients\n",
        "            optimizer.zero_grad()\n",
        "\n",
        "            # Forward path\n",
        "            ######################\n",
        "            ### YOUR CODE HERE ###\n",
        "            ######################\n",
        "            output = model.forward(data)\n",
        "\n",
        "            #####################\n",
        "            ### YOUR CODE END ###\n",
        "            #####################\n",
        "\n",
        "            # Loss function \n",
        "            ######################\n",
        "            ### YOUR CODE HERE ###\n",
        "            ######################\n",
        "            loss = criterion(output,target)\n",
        "            #####################\n",
        "            ### YOUR CODE END ###\n",
        "            #####################\n",
        "\n",
        "            # Backward path (backpropagation)\n",
        "            ######################\n",
        "            ### YOUR CODE HERE ###\n",
        "            ######################\n",
        "            loss.backward()\n",
        "            #####################\n",
        "            ### YOUR CODE END ###\n",
        "            #####################\n",
        "\n",
        "            # Update the parameters\n",
        "            optimizer.step()\n",
        "\n",
        "            # Track train loss by multiplying average loss by number of examples in batch\n",
        "            train_loss += loss.item() * data.size(0)\n",
        "\n",
        "            # Calculate accuracy by finding max log probability\n",
        "            _, pred = torch.max(output, dim=1)\n",
        "            correct_tensor = pred.eq(target.data.view_as(pred))\n",
        "\n",
        "            # Need to convert correct tensor from int to float to average\n",
        "            accuracy = torch.mean(correct_tensor.type(torch.FloatTensor))\n",
        "\n",
        "            # Multiply average accuracy times the number of examples in batch\n",
        "            train_acc += accuracy.item() * data.size(0)\n",
        "\n",
        "            # Track training progress\n",
        "            print(\n",
        "                f'Epoch: {epoch}\\t{100 * (ii + 1) / len(train_loader):.2f}% complete. {timer() - start:.2f} seconds elapsed in epoch.',\n",
        "                end='\\r')\n",
        "\n",
        "        # After training loops ends, start validation\n",
        "        else:\n",
        "            model.epochs += 1\n",
        "\n",
        "            # Don't need to keep track of gradients\n",
        "            with torch.no_grad():\n",
        "\n",
        "                # Set to evaluation mode\n",
        "                model.eval()\n",
        "\n",
        "                # Validation loop\n",
        "                for data, target in valid_loader:\n",
        "\n",
        "                    # Tensors to gpu\n",
        "                    ######################\n",
        "                    ### YOUR CODE HERE ###\n",
        "                    ######################\n",
        "                    model.cuda()\n",
        "                    data = data.cuda()\n",
        "                    target = target.cuda()\n",
        "                    #####################\n",
        "                    ### YOUR CODE END ###\n",
        "                    #####################\n",
        "                    # Forward path\n",
        "                    ######################\n",
        "                    ### YOUR CODE HERE ###\n",
        "                    ######################\n",
        "                    output = model.forward(data)\n",
        "                    #####################\n",
        "                    ### YOUR CODE END ###\n",
        "                    #####################\n",
        "\n",
        "                    # Validation loss computation\n",
        "                    ######################\n",
        "                    ### YOUR CODE HERE ###\n",
        "                    ######################\n",
        "                    loss = criterion(output,target)\n",
        "                    #####################\n",
        "                    ### YOUR CODE END ###\n",
        "                    #####################\n",
        "\n",
        "                    # Multiply average loss times the number of examples in batch\n",
        "                    valid_loss += loss.item() * data.size(0)\n",
        "\n",
        "                    # Calculate validation accuracy\n",
        "                    _, pred = torch.max(output, dim=1)\n",
        "                    correct_tensor = pred.eq(target.data.view_as(pred))\n",
        "                    accuracy = torch.mean(\n",
        "                    correct_tensor.type(torch.FloatTensor))\n",
        "\n",
        "                    # Multiply average accuracy times the number of examples\n",
        "                    valid_acc += accuracy.item() * data.size(0)\n",
        "\n",
        "\n",
        "                # Calculate average losses and Calculate average accuracy\n",
        "                train_loss = train_loss / len(train_loader.dataset)\n",
        "                valid_loss = valid_loss / len(valid_loader.dataset)\n",
        "\n",
        "                train_acc = train_acc / len(train_loader.dataset)\n",
        "                valid_acc = valid_acc / len(valid_loader.dataset)\n",
        "\n",
        "                history.append([train_loss, valid_loss, train_acc, valid_acc])\n",
        "\n",
        "                # Print training and validation results\n",
        "                if (epoch + 1) % print_every == 0:\n",
        "                    print(\n",
        "                        f'\\nEpoch: {epoch} \\tTraining Loss: {train_loss:.4f} \\tValidation Loss: {valid_loss:.4f}'\n",
        "                    )\n",
        "                    print(\n",
        "                        f'\\t\\tTraining Accuracy: {100 * train_acc:.2f}%\\t Validation Accuracy: {100 * valid_acc:.2f}%'\n",
        "                    )\n",
        "\n",
        "                # Save the model if validation loss decreases\n",
        "                if valid_loss < valid_loss_min:\n",
        "                    # Save model \n",
        "                    # You can use torch.save()\n",
        "                    ######################\n",
        "                    ### YOUR CODE HERE ###\n",
        "                    ######################\n",
        "                    torch.save(model.state_dict(),save_file_name)\n",
        "                    #####################\n",
        "                    ### YOUR CODE END ###\n",
        "                    #####################\n",
        "\n",
        "                    # Track improvement\n",
        "                    epochs_no_improve = 0\n",
        "                    valid_loss_min = valid_loss\n",
        "                    valid_best_acc = valid_acc\n",
        "                    best_epoch = epoch\n",
        "\n",
        "                # Otherwise increment count of epochs with no improvement\n",
        "                else:\n",
        "                    epochs_no_improve += 1\n",
        "                    # Trigger early stopping\n",
        "                    if epochs_no_improve >= max_epochs_stop:\n",
        "                        print(\n",
        "                            f'\\nEarly Stopping! Total epochs: {epoch}. Best epoch: {best_epoch} with loss: {valid_loss_min:.2f} and acc: {100 * valid_acc:.2f}%'\n",
        "                        )\n",
        "                        total_time = timer() - overall_start\n",
        "                        print(\n",
        "                            f'{total_time:.2f} total seconds elapsed. {total_time / (epoch+1):.2f} seconds per epoch.'\n",
        "                        )\n",
        "\n",
        "                        # Load the best state dict\n",
        "                        # You can use model.load_state_dict()\n",
        "                        ######################\n",
        "                        ### YOUR CODE HERE ###\n",
        "                        ######################\n",
        "                        model.load_state_dict(torch.load(save_file_name))\n",
        "                        #####################\n",
        "                        ### YOUR CODE END ###\n",
        "                        #####################\n",
        "\n",
        "                        # Attach the optimizer\n",
        "                        model.optimizer = optimizer\n",
        "\n",
        "                        # Format history\n",
        "                        history = pd.DataFrame(\n",
        "                            history,\n",
        "                            columns=[\n",
        "                                'train_loss', 'valid_loss', 'train_acc',\n",
        "                                'valid_acc'\n",
        "                            ])\n",
        "                        return model, history\n",
        "\n",
        "    # Attach the optimizer\n",
        "    model.optimizer = optimizer\n",
        "    # Record overall time and print out stats\n",
        "    total_time = timer() - overall_start\n",
        "    print(\n",
        "        f'\\nBest epoch: {best_epoch} with loss: {valid_loss_min:.2f} and acc: {100 * valid_best_acc:.2f}%'\n",
        "    )\n",
        "    print(\n",
        "        f'{total_time:.2f} total seconds elapsed. {total_time / (epoch+1):.2f} seconds per epoch.'\n",
        "    )\n",
        "    # Format history\n",
        "    history = pd.DataFrame(\n",
        "        history,\n",
        "        columns=['train_loss', 'valid_loss', 'train_acc', 'valid_acc'])\n",
        "    return model, history"
      ]
    },
    {
      "cell_type": "markdown",
      "source": [
        "#Extract Data from CIFAR10 dataset"
      ],
      "metadata": {
        "id": "frmC8WOrfFW7"
      }
    },
    {
      "cell_type": "code",
      "source": [
        "\n",
        "def get_CIFAR10_data(num_training=49000, num_validation=1000, num_test=1000):\n",
        "    \"\"\"\n",
        "    Load the CIFAR-10 dataset from disk and perform preprocessing to prepare\n",
        "    it for the two-layer neural net classifier.   \n",
        "    \"\"\"\n",
        "    # Load the raw CIFAR-10 data\n",
        "    cifar10_dir = './datasets/'\n",
        "    \n",
        "    X_train, y_train, X_test, y_test = load_CIFAR10(cifar10_dir)\n",
        "        \n",
        "    # Subsample the data\n",
        "    mask = list(range(num_training, num_training + num_validation))\n",
        "    X_val = X_train[mask]\n",
        "    y_val = y_train[mask]\n",
        "    mask = list(range(num_training))\n",
        "    X_train = X_train[mask]\n",
        "    y_train = y_train[mask]\n",
        "    mask = list(range(num_test))\n",
        "    X_test = X_test[mask]\n",
        "    y_test = y_test[mask]\n",
        "\n",
        "    # Normalize the data: subtract the mean image\n",
        "    mean_image = np.mean(X_train, axis=0)\n",
        "    X_train -= mean_image\n",
        "    X_val -= mean_image\n",
        "    X_test -= mean_image\n",
        "\n",
        "    # Reshape data to CNN N,C,H,W data format\n",
        "    X_train = X_train.reshape((X_train.shape[0], X_train.shape[3], X_train.shape[2], X_train.shape[1]))\n",
        "    X_val = X_val.reshape((X_val.shape[0], X_val.shape[3], X_val.shape[2], X_val.shape[1]))\n",
        "    X_test = X_test.reshape((X_test.shape[0], X_test.shape[3], X_test.shape[2], X_test.shape[1]))\n",
        "\n",
        "    return X_train, y_train, X_val, y_val, X_test, y_test\n",
        "\n",
        "\n",
        "\n",
        "\n"
      ],
      "metadata": {
        "id": "Fajs3nqm2wGP"
      },
      "execution_count": null,
      "outputs": []
    },
    {
      "cell_type": "markdown",
      "source": [
        "#My CNN Model"
      ],
      "metadata": {
        "id": "xROfgdGVe-_j"
      }
    },
    {
      "cell_type": "code",
      "source": [
        "from data_utils import load_CIFAR10\n",
        "class CNN(nn.Module):\n",
        "    def __init__(self):\n",
        "        super().__init__()\n",
        "        self.conv1 = nn.Conv2d(3,6,kernel_size=3,padding=1)\n",
        "        self.conv2 = nn.Conv2d(6,16,kernel_size=3,padding=1)\n",
        "        self.pool = nn.MaxPool2d(2,2)\n",
        "        self.linear1 = nn.Linear(16*16*16,84,bias=True)\n",
        "        self.linear2 = nn.Linear(84,56,bias=True)\n",
        "        self.linear3 = nn.Linear(56,32,bias=True)\n",
        "        self.linear4 = nn.Linear(32,10,bias=True)\n",
        "    def forward(self, x):\n",
        "        x = self.conv1(x)\n",
        "        x = self.conv2(x)\n",
        "        x = self.pool(x)\n",
        "        x = x.view(-1,16*16*16)\n",
        "        x = F.relu(self.linear1(x))\n",
        "        x = F.relu(self.linear2(x))\n",
        "        x = F.relu(self.linear3(x))\n",
        "        x = self.linear4(x)\n",
        "        return x"
      ],
      "metadata": {
        "id": "CVzgFJhofBkN"
      },
      "execution_count": null,
      "outputs": []
    },
    {
      "cell_type": "code",
      "source": [
        "\n",
        "\n",
        "\n",
        "\n",
        "# Invoke the above function to get our data.\n",
        "train_X, train_Y, validation_X, validation_Y, test_X, test_Y = get_CIFAR10_data()\n",
        "print('Train data shape: ', train_X.shape)\n",
        "print('Train labels shape: ', train_Y.shape)\n",
        "print('Validation data shape: ', validation_X.shape)\n",
        "print('Validation labels shape: ', validation_Y.shape)\n",
        "print('Test data shape: ', test_X.shape)\n",
        "print('Test labels shape: ', test_Y.shape)\n",
        "\n",
        "\n",
        "CNN = CNN()\n",
        "criterion = nn.CrossEntropyLoss()\n",
        "optimizer = optim.SGD(CNN.parameters(),lr=1e-4)\n",
        "batch_size = 16\n",
        "# Transfer the data from numpy to tensor\n",
        "data = {\n",
        "    'train':\n",
        "    TensorDataset(torch.from_numpy(train_X).float(), torch.from_numpy(train_Y).to(torch.long)),\n",
        "    'valid':\n",
        "    TensorDataset(torch.from_numpy(test_X).float(), torch.from_numpy(test_Y).to(torch.long))\n",
        "\n",
        "}\n",
        "\n",
        "\n",
        "# Dataloader iterators, make sure to shuffle\n",
        "dataloaders = {\n",
        "    'train': DataLoader(data['train'], batch_size=batch_size, shuffle=True,num_workers=2),\n",
        "    'valid': DataLoader(data['valid'], batch_size=batch_size, shuffle=False,num_workers=2)\n",
        "}\n",
        "\n",
        "\n",
        "# Iterate through the dataloader once\n",
        "trainiter = iter(dataloaders['train'])\n",
        "features, labels = next(trainiter)\n",
        "features.shape, labels.shape\n",
        "save_file_name = f'CNN_model_best_model.pt'\n",
        "train_on_gpu = cuda.is_available()\n",
        "model, history = train(CNN,\n",
        "    criterion,\n",
        "    optimizer,\n",
        "    dataloaders['train'], \n",
        "    dataloaders['valid'],\n",
        "    save_file_name=save_file_name,\n",
        "    max_epochs_stop=6,\n",
        "    n_epochs=500,\n",
        "    print_every=1)\n",
        "\n",
        "plt.figure(figsize=(8, 6))\n",
        "for c in ['train_loss', 'valid_loss']:\n",
        "    plt.plot(\n",
        "        history[c], label=c)\n",
        "plt.legend()\n",
        "plt.xlabel('Epoch')\n",
        "plt.ylabel('Average Negative Log Likelihood')\n",
        "plt.title('Training and Validation Losses')\n",
        "plt.show()\n",
        "\n",
        "plt.figure(figsize=(8, 6))\n",
        "for c in ['train_acc', 'valid_acc']:\n",
        "    plt.plot(\n",
        "        100 * history[c], label=c)\n",
        "plt.legend()\n",
        "plt.xlabel('Epoch')\n",
        "plt.ylabel('Average Accuracy')\n",
        "plt.title('Training and Validation Accuracy')\n",
        "plt.show()\n",
        "bestAccVal = max(history['valid_acc'])*100\n",
        "print('Best accuracy in validation history is {0}%'.format(bestAccVal))\n",
        "\n",
        "\n"
      ],
      "metadata": {
        "colab": {
          "base_uri": "https://localhost:8080/",
          "height": 1000
        },
        "id": "RtGNxknx0zdb",
        "outputId": "31f2cf44-11cc-4240-cd4e-fedebaf0b70f"
      },
      "execution_count": null,
      "outputs": [
        {
          "output_type": "stream",
          "name": "stdout",
          "text": [
            "Train data shape:  (49000, 3, 32, 32)\n",
            "Train labels shape:  (49000,)\n",
            "Validation data shape:  (1000, 3, 32, 32)\n",
            "Validation labels shape:  (1000,)\n",
            "Test data shape:  (1000, 3, 32, 32)\n",
            "Test labels shape:  (1000,)\n"
          ]
        },
        {
          "output_type": "execute_result",
          "data": {
            "text/plain": [
              "(torch.Size([16, 3, 32, 32]), torch.Size([16]))"
            ]
          },
          "metadata": {},
          "execution_count": 10
        },
        {
          "output_type": "stream",
          "name": "stdout",
          "text": [
            "Starting Training from Scratch.\n",
            "\n",
            "\n",
            "Epoch: 0 \tTraining Loss: 2.1002 \tValidation Loss: 1.9568\n",
            "\t\tTraining Accuracy: 23.47%\t Validation Accuracy: 31.00%\n",
            "\n",
            "Epoch: 1 \tTraining Loss: 1.8819 \tValidation Loss: 1.8011\n",
            "\t\tTraining Accuracy: 32.75%\t Validation Accuracy: 37.60%\n",
            "\n",
            "Epoch: 2 \tTraining Loss: 1.7493 \tValidation Loss: 1.7088\n",
            "\t\tTraining Accuracy: 37.73%\t Validation Accuracy: 40.60%\n",
            "\n",
            "Epoch: 3 \tTraining Loss: 1.6643 \tValidation Loss: 1.6273\n",
            "\t\tTraining Accuracy: 40.71%\t Validation Accuracy: 42.80%\n",
            "\n",
            "Epoch: 4 \tTraining Loss: 1.6067 \tValidation Loss: 1.5970\n",
            "\t\tTraining Accuracy: 43.01%\t Validation Accuracy: 42.00%\n",
            "\n",
            "Epoch: 5 \tTraining Loss: 1.5637 \tValidation Loss: 1.5633\n",
            "\t\tTraining Accuracy: 44.59%\t Validation Accuracy: 44.10%\n",
            "\n",
            "Epoch: 6 \tTraining Loss: 1.5273 \tValidation Loss: 1.5310\n",
            "\t\tTraining Accuracy: 45.97%\t Validation Accuracy: 44.10%\n",
            "\n",
            "Epoch: 7 \tTraining Loss: 1.4963 \tValidation Loss: 1.5506\n",
            "\t\tTraining Accuracy: 47.13%\t Validation Accuracy: 45.00%\n",
            "\n",
            "Epoch: 8 \tTraining Loss: 1.4687 \tValidation Loss: 1.4928\n",
            "\t\tTraining Accuracy: 48.20%\t Validation Accuracy: 45.20%\n",
            "\n",
            "Epoch: 9 \tTraining Loss: 1.4432 \tValidation Loss: 1.4824\n",
            "\t\tTraining Accuracy: 49.12%\t Validation Accuracy: 47.90%\n",
            "\n",
            "Epoch: 10 \tTraining Loss: 1.4209 \tValidation Loss: 1.4716\n",
            "\t\tTraining Accuracy: 50.00%\t Validation Accuracy: 47.70%\n",
            "\n",
            "Epoch: 11 \tTraining Loss: 1.3984 \tValidation Loss: 1.4581\n",
            "\t\tTraining Accuracy: 50.60%\t Validation Accuracy: 48.70%\n",
            "\n",
            "Epoch: 12 \tTraining Loss: 1.3797 \tValidation Loss: 1.4397\n",
            "\t\tTraining Accuracy: 51.47%\t Validation Accuracy: 48.50%\n",
            "\n",
            "Epoch: 13 \tTraining Loss: 1.3596 \tValidation Loss: 1.4392\n",
            "\t\tTraining Accuracy: 52.23%\t Validation Accuracy: 49.10%\n",
            "\n",
            "Epoch: 14 \tTraining Loss: 1.3420 \tValidation Loss: 1.4471\n",
            "\t\tTraining Accuracy: 53.24%\t Validation Accuracy: 48.80%\n",
            "\n",
            "Epoch: 15 \tTraining Loss: 1.3258 \tValidation Loss: 1.4220\n",
            "\t\tTraining Accuracy: 53.65%\t Validation Accuracy: 49.60%\n",
            "\n",
            "Epoch: 16 \tTraining Loss: 1.3093 \tValidation Loss: 1.4224\n",
            "\t\tTraining Accuracy: 54.23%\t Validation Accuracy: 49.20%\n",
            "\n",
            "Epoch: 17 \tTraining Loss: 1.2928 \tValidation Loss: 1.4289\n",
            "\t\tTraining Accuracy: 54.94%\t Validation Accuracy: 48.70%\n",
            "\n",
            "Epoch: 18 \tTraining Loss: 1.2786 \tValidation Loss: 1.4022\n",
            "\t\tTraining Accuracy: 55.38%\t Validation Accuracy: 49.00%\n",
            "\n",
            "Epoch: 19 \tTraining Loss: 1.2645 \tValidation Loss: 1.4180\n",
            "\t\tTraining Accuracy: 55.99%\t Validation Accuracy: 50.20%\n",
            "\n",
            "Epoch: 20 \tTraining Loss: 1.2491 \tValidation Loss: 1.3973\n",
            "\t\tTraining Accuracy: 56.37%\t Validation Accuracy: 50.70%\n",
            "\n",
            "Epoch: 21 \tTraining Loss: 1.2327 \tValidation Loss: 1.3910\n",
            "\t\tTraining Accuracy: 57.04%\t Validation Accuracy: 51.20%\n",
            "\n",
            "Epoch: 22 \tTraining Loss: 1.2196 \tValidation Loss: 1.4215\n",
            "\t\tTraining Accuracy: 57.61%\t Validation Accuracy: 49.00%\n",
            "\n",
            "Epoch: 23 \tTraining Loss: 1.2053 \tValidation Loss: 1.3873\n",
            "\t\tTraining Accuracy: 57.95%\t Validation Accuracy: 50.60%\n",
            "\n",
            "Epoch: 24 \tTraining Loss: 1.1914 \tValidation Loss: 1.4107\n",
            "\t\tTraining Accuracy: 58.57%\t Validation Accuracy: 50.80%\n",
            "\n",
            "Epoch: 25 \tTraining Loss: 1.1776 \tValidation Loss: 1.3979\n",
            "\t\tTraining Accuracy: 59.05%\t Validation Accuracy: 50.90%\n",
            "\n",
            "Epoch: 26 \tTraining Loss: 1.1640 \tValidation Loss: 1.4068\n",
            "\t\tTraining Accuracy: 59.59%\t Validation Accuracy: 49.90%\n",
            "\n",
            "Epoch: 27 \tTraining Loss: 1.1500 \tValidation Loss: 1.4045\n",
            "\t\tTraining Accuracy: 60.18%\t Validation Accuracy: 50.00%\n",
            "\n",
            "Epoch: 28 \tTraining Loss: 1.1352 \tValidation Loss: 1.3985\n",
            "\t\tTraining Accuracy: 60.67%\t Validation Accuracy: 51.00%\n",
            "\n",
            "Epoch: 29 \tTraining Loss: 1.1210 \tValidation Loss: 1.3973\n",
            "\t\tTraining Accuracy: 61.15%\t Validation Accuracy: 52.50%\n",
            "\n",
            "Early Stopping! Total epochs: 29. Best epoch: 23 with loss: 1.39 and acc: 52.50%\n",
            "665.82 total seconds elapsed. 22.19 seconds per epoch.\n"
          ]
        },
        {
          "output_type": "execute_result",
          "data": {
            "text/plain": [
              "<Figure size 576x432 with 0 Axes>"
            ]
          },
          "metadata": {},
          "execution_count": 10
        },
        {
          "output_type": "execute_result",
          "data": {
            "text/plain": [
              "[<matplotlib.lines.Line2D at 0x7f843af943d0>]"
            ]
          },
          "metadata": {},
          "execution_count": 10
        },
        {
          "output_type": "execute_result",
          "data": {
            "text/plain": [
              "[<matplotlib.lines.Line2D at 0x7f8439e27e10>]"
            ]
          },
          "metadata": {},
          "execution_count": 10
        },
        {
          "output_type": "execute_result",
          "data": {
            "text/plain": [
              "<matplotlib.legend.Legend at 0x7f8439e27c10>"
            ]
          },
          "metadata": {},
          "execution_count": 10
        },
        {
          "output_type": "execute_result",
          "data": {
            "text/plain": [
              "Text(0.5, 0, 'Epoch')"
            ]
          },
          "metadata": {},
          "execution_count": 10
        },
        {
          "output_type": "execute_result",
          "data": {
            "text/plain": [
              "Text(0, 0.5, 'Average Negative Log Likelihood')"
            ]
          },
          "metadata": {},
          "execution_count": 10
        },
        {
          "output_type": "execute_result",
          "data": {
            "text/plain": [
              "Text(0.5, 1.0, 'Training and Validation Losses')"
            ]
          },
          "metadata": {},
          "execution_count": 10
        },
        {
          "output_type": "display_data",
          "data": {
            "text/plain": [
              "<Figure size 576x432 with 1 Axes>"
            ],
            "image/png": "[encoded data removed]"
          },
          "metadata": {
            "needs_background": "light"
          }
        },
        {
          "output_type": "execute_result",
          "data": {
            "text/plain": [
              "<Figure size 576x432 with 0 Axes>"
            ]
          },
          "metadata": {},
          "execution_count": 10
        },
        {
          "output_type": "execute_result",
          "data": {
            "text/plain": [
              "[<matplotlib.lines.Line2D at 0x7f843aeb1290>]"
            ]
          },
          "metadata": {},
          "execution_count": 10
        },
        {
          "output_type": "execute_result",
          "data": {
            "text/plain": [
              "[<matplotlib.lines.Line2D at 0x7f843aeb1950>]"
            ]
          },
          "metadata": {},
          "execution_count": 10
        },
        {
          "output_type": "execute_result",
          "data": {
            "text/plain": [
              "<matplotlib.legend.Legend at 0x7f843aeb4490>"
            ]
          },
          "metadata": {},
          "execution_count": 10
        },
        {
          "output_type": "execute_result",
          "data": {
            "text/plain": [
              "Text(0.5, 0, 'Epoch')"
            ]
          },
          "metadata": {},
          "execution_count": 10
        },
        {
          "output_type": "execute_result",
          "data": {
            "text/plain": [
              "Text(0, 0.5, 'Average Accuracy')"
            ]
          },
          "metadata": {},
          "execution_count": 10
        },
        {
          "output_type": "execute_result",
          "data": {
            "text/plain": [
              "Text(0.5, 1.0, 'Training and Validation Accuracy')"
            ]
          },
          "metadata": {},
          "execution_count": 10
        },
        {
          "output_type": "display_data",
          "data": {
            "text/plain": [
              "<Figure size 576x432 with 1 Axes>"
            ],
            "image/png": "[encoded data removed]"
          },
          "metadata": {
            "needs_background": "light"
          }
        },
        {
          "output_type": "stream",
          "name": "stdout",
          "text": [
            "Best accuracy in validation history is 52.5%\n"
          ]
        }
      ]
    },
    {
      "cell_type": "markdown",
      "source": [
        "###My CNN Model Cross-Validation"
      ],
      "metadata": {
        "id": "1XTqJ0QQITw_"
      }
    },
    {
      "cell_type": "code",
      "source": [
        "from sklearn.model_selection import KFold\n",
        "from torch.utils.data import ConcatDataset,SubsetRandomSampler\n",
        "\n",
        "\n",
        "# Cleaning up variables to prevent loading data multiple times (which may cause memory issue)\n",
        "try:\n",
        "   del train_X, train_Y\n",
        "   del test_X, test_Y\n",
        "   del validation_X, validation_Y\n",
        "   print('Clear previously loaded data.')\n",
        "except:\n",
        "   pass\n",
        "# Invoke the above function to get our data.\n",
        "train_X, train_Y, validation_X, validation_Y, test_X, test_Y = get_CIFAR10_data()\n",
        "print('Train data shape: ', train_X.shape)\n",
        "print('Train labels shape: ', train_Y.shape)\n",
        "print('Validation data shape: ', validation_X.shape)\n",
        "print('Validation labels shape: ', validation_Y.shape)\n",
        "print('Test data shape: ', test_X.shape)\n",
        "print('Test labels shape: ', test_Y.shape)\n",
        "\n",
        "num_kFolds = 10\n",
        "response = {}\n",
        "num_epochs = 1\n",
        "\n",
        "criterion = nn.CrossEntropyLoss()\n",
        "\n",
        "batch_size = 16\n",
        "# Transfer the data from numpy to tensor\n",
        "data = {\n",
        "    'train':\n",
        "    TensorDataset(torch.from_numpy(train_X).float(), torch.from_numpy(train_Y).to(torch.long)),\n",
        "    'valid':\n",
        "    TensorDataset(torch.from_numpy(test_X).float(), torch.from_numpy(test_Y).to(torch.long))\n",
        "\n",
        "}\n",
        "\n",
        "ConcatDS = ConcatDataset([data['train'],data['valid']])\n",
        "kf = KFold(n_splits=num_kFolds,shuffle=True)\n",
        "CNN = CNN()\n",
        "criterion = nn.CrossEntropyLoss()\n",
        "optimizer = optim.SGD(CNN.parameters(),lr=1e-4)\n",
        "for fold,(train,test) in enumerate(kf.split(ConcatDS)):\n",
        "  print(f'Fold Number {fold}')\n",
        "  print('-----------------------------------')\n",
        "  train_sample = SubsetRandomSampler(train)\n",
        "  test_sample = SubsetRandomSampler(test) \n",
        "  # Dataloader iterators, make sure to shuffle\n",
        "  dataloaders = {\n",
        "      'train': DataLoader(ConcatDS, batch_size=batch_size, shuffle=False,num_workers=2, sampler=train_sample),\n",
        "      'valid': DataLoader(ConcatDS, batch_size=batch_size, shuffle=False,num_workers=2, sampler=test_sample)\n",
        "  }\n",
        "  # Iterate through the dataloader once\n",
        "  trainiter = iter(dataloaders['train'])\n",
        "  features, labels = next(trainiter)\n",
        "  features.shape, labels.shape\n",
        "  save_file_name = f'CNN_model_fold_{fold}.pt'\n",
        "  train_on_gpu = cuda.is_available()\n",
        "\n",
        "  for epoch in range(0, num_epochs):\n",
        "      # Print epoch\n",
        "      print(f'Starting epoch {epoch+1}')\n",
        "\n",
        "      # Set current loss value\n",
        "      current_loss = 0.0\n",
        "\n",
        "      # Iterate over the DataLoader for training data\n",
        "      for i, data in enumerate(dataloaders['train'], 0):\n",
        "        \n",
        "        # Get inputs\n",
        "        inputs, targets = data\n",
        "        \n",
        "        # Zero the gradients\n",
        "        optimizer.zero_grad()\n",
        "        \n",
        "        # Perform forward pass\n",
        "        outputs = CNN(inputs)\n",
        "        \n",
        "        # Compute loss\n",
        "        loss = criterion(outputs, targets)\n",
        "        \n",
        "        # Perform backward pass\n",
        "        loss.backward()\n",
        "        \n",
        "        # Perform optimization\n",
        "        optimizer.step()\n",
        "        \n",
        "        # Print statistics\n",
        "        current_loss += loss.item()\n",
        "        if i % 500 == 499:\n",
        "            print('Loss after mini-batch %5d: %.3f' %\n",
        "                  (i + 1, current_loss / 500))\n",
        "            current_loss = 0.0\n",
        "            \n",
        "    # Process is complete.\n",
        "      print('Training process has finished. Saving trained model.')\n",
        "\n",
        "    # Print about testing\n",
        "      print('Starting testing')\n",
        "    \n",
        "    # Saving the model\n",
        "      save_path = f'./model-fold-{fold}.pth'\n",
        "      torch.save(CNN.state_dict(), save_path)\n",
        "\n",
        "    # Evaluationfor this fold\n",
        "      correct, total = 0, 0\n",
        "\n",
        "  with torch.no_grad():\n",
        "\n",
        "      # Iterate over the test data and generate predictions\n",
        "      for i, data in enumerate(dataloaders['valid'], 0):\n",
        "\n",
        "        # Get inputs\n",
        "        inputs, targets = data\n",
        "\n",
        "        # Generate outputs\n",
        "        outputs = CNN(inputs)\n",
        "\n",
        "        # Set total and correct\n",
        "        _, predicted = torch.max(outputs.data, 1)\n",
        "        total += targets.size(0)\n",
        "        correct += (predicted == targets).sum().item()\n",
        "\n",
        "      # Print accuracy\n",
        "      print('Accuracy for fold %d: %d %%' % (fold, 100.0 * correct / total))\n",
        "      print('--------------------------------')\n",
        "      response[fold] = 100.0 * (correct / total)\n",
        "    \n",
        "  # Print fold results\n",
        "  print(f'K-FOLD CROSS VALIDATION RESULTS FOR {fold} FOLDS')\n",
        "  print('--------------------------------')\n",
        "  sum = 0.0\n",
        "  for key, value in response.items():\n",
        "    print(f'Fold {key}: {value} %')\n",
        "    sum += value\n",
        "  print(f'Average: {sum/len(response.items())} %')\n",
        "\n"
      ],
      "metadata": {
        "id": "gxJE-xHwzH_u",
        "colab": {
          "base_uri": "https://localhost:8080/"
        },
        "outputId": "75a80e58-79c2-454c-ebf8-9472c8a46835"
      },
      "execution_count": null,
      "outputs": [
        {
          "output_type": "stream",
          "name": "stdout",
          "text": [
            "Clear previously loaded data.\n",
            "Train data shape:  (49000, 3, 32, 32)\n",
            "Train labels shape:  (49000,)\n",
            "Validation data shape:  (1000, 3, 32, 32)\n",
            "Validation labels shape:  (1000,)\n",
            "Test data shape:  (1000, 3, 32, 32)\n",
            "Test labels shape:  (1000,)\n",
            "Fold Number 0\n",
            "-----------------------------------\n"
          ]
        },
        {
          "output_type": "execute_result",
          "data": {
            "text/plain": [
              "(torch.Size([16, 3, 32, 32]), torch.Size([16]))"
            ]
          },
          "metadata": {},
          "execution_count": 20
        },
        {
          "output_type": "stream",
          "name": "stdout",
          "text": [
            "Starting epoch 1\n",
            "Loss after mini-batch   500: 2.288\n",
            "Loss after mini-batch  1000: 2.179\n",
            "Loss after mini-batch  1500: 2.122\n",
            "Loss after mini-batch  2000: 2.083\n",
            "Loss after mini-batch  2500: 2.050\n",
            "Training process has finished. Saving trained model.\n",
            "Starting testing\n",
            "Accuracy for fold 0: 27 %\n",
            "--------------------------------\n",
            "K-FOLD CROSS VALIDATION RESULTS FOR 0 FOLDS\n",
            "--------------------------------\n",
            "Fold 0: 27.96 %\n",
            "Average: 27.96 %\n",
            "Fold Number 1\n",
            "-----------------------------------\n"
          ]
        },
        {
          "output_type": "execute_result",
          "data": {
            "text/plain": [
              "(torch.Size([16, 3, 32, 32]), torch.Size([16]))"
            ]
          },
          "metadata": {},
          "execution_count": 20
        },
        {
          "output_type": "stream",
          "name": "stdout",
          "text": [
            "Starting epoch 1\n",
            "Loss after mini-batch   500: 1.986\n",
            "Loss after mini-batch  1000: 1.958\n",
            "Loss after mini-batch  1500: 1.931\n",
            "Loss after mini-batch  2000: 1.887\n",
            "Loss after mini-batch  2500: 1.869\n",
            "Training process has finished. Saving trained model.\n",
            "Starting testing\n",
            "Accuracy for fold 1: 32 %\n",
            "--------------------------------\n",
            "K-FOLD CROSS VALIDATION RESULTS FOR 1 FOLDS\n",
            "--------------------------------\n",
            "Fold 0: 27.96 %\n",
            "Fold 1: 32.92 %\n",
            "Average: 30.44 %\n",
            "Fold Number 2\n",
            "-----------------------------------\n"
          ]
        },
        {
          "output_type": "execute_result",
          "data": {
            "text/plain": [
              "(torch.Size([16, 3, 32, 32]), torch.Size([16]))"
            ]
          },
          "metadata": {},
          "execution_count": 20
        },
        {
          "output_type": "stream",
          "name": "stdout",
          "text": [
            "Starting epoch 1\n",
            "Loss after mini-batch   500: 1.830\n",
            "Loss after mini-batch  1000: 1.802\n",
            "Loss after mini-batch  1500: 1.796\n",
            "Loss after mini-batch  2000: 1.791\n",
            "Loss after mini-batch  2500: 1.776\n",
            "Training process has finished. Saving trained model.\n",
            "Starting testing\n",
            "Accuracy for fold 2: 37 %\n",
            "--------------------------------\n",
            "K-FOLD CROSS VALIDATION RESULTS FOR 2 FOLDS\n",
            "--------------------------------\n",
            "Fold 0: 27.96 %\n",
            "Fold 1: 32.92 %\n",
            "Fold 2: 37.34 %\n",
            "Average: 32.74 %\n",
            "Fold Number 3\n",
            "-----------------------------------\n"
          ]
        },
        {
          "output_type": "execute_result",
          "data": {
            "text/plain": [
              "(torch.Size([16, 3, 32, 32]), torch.Size([16]))"
            ]
          },
          "metadata": {},
          "execution_count": 20
        },
        {
          "output_type": "stream",
          "name": "stdout",
          "text": [
            "Starting epoch 1\n",
            "Loss after mini-batch   500: 1.734\n",
            "Loss after mini-batch  1000: 1.734\n",
            "Loss after mini-batch  1500: 1.719\n",
            "Loss after mini-batch  2000: 1.721\n",
            "Loss after mini-batch  2500: 1.711\n",
            "Training process has finished. Saving trained model.\n",
            "Starting testing\n",
            "Accuracy for fold 3: 38 %\n",
            "--------------------------------\n",
            "K-FOLD CROSS VALIDATION RESULTS FOR 3 FOLDS\n",
            "--------------------------------\n",
            "Fold 0: 27.96 %\n",
            "Fold 1: 32.92 %\n",
            "Fold 2: 37.34 %\n",
            "Fold 3: 38.46 %\n",
            "Average: 34.17 %\n",
            "Fold Number 4\n",
            "-----------------------------------\n"
          ]
        },
        {
          "output_type": "execute_result",
          "data": {
            "text/plain": [
              "(torch.Size([16, 3, 32, 32]), torch.Size([16]))"
            ]
          },
          "metadata": {},
          "execution_count": 20
        },
        {
          "output_type": "stream",
          "name": "stdout",
          "text": [
            "Starting epoch 1\n",
            "Loss after mini-batch   500: 1.679\n",
            "Loss after mini-batch  1000: 1.688\n",
            "Loss after mini-batch  1500: 1.676\n",
            "Loss after mini-batch  2000: 1.654\n",
            "Loss after mini-batch  2500: 1.654\n",
            "Training process has finished. Saving trained model.\n",
            "Starting testing\n",
            "Accuracy for fold 4: 41 %\n",
            "--------------------------------\n",
            "K-FOLD CROSS VALIDATION RESULTS FOR 4 FOLDS\n",
            "--------------------------------\n",
            "Fold 0: 27.96 %\n",
            "Fold 1: 32.92 %\n",
            "Fold 2: 37.34 %\n",
            "Fold 3: 38.46 %\n",
            "Fold 4: 41.18 %\n",
            "Average: 35.572 %\n",
            "Fold Number 5\n",
            "-----------------------------------\n"
          ]
        },
        {
          "output_type": "execute_result",
          "data": {
            "text/plain": [
              "(torch.Size([16, 3, 32, 32]), torch.Size([16]))"
            ]
          },
          "metadata": {},
          "execution_count": 20
        },
        {
          "output_type": "stream",
          "name": "stdout",
          "text": [
            "Starting epoch 1\n",
            "Loss after mini-batch   500: 1.639\n",
            "Loss after mini-batch  1000: 1.644\n",
            "Loss after mini-batch  1500: 1.625\n",
            "Loss after mini-batch  2000: 1.622\n",
            "Loss after mini-batch  2500: 1.623\n",
            "Training process has finished. Saving trained model.\n",
            "Starting testing\n",
            "Accuracy for fold 5: 43 %\n",
            "--------------------------------\n",
            "K-FOLD CROSS VALIDATION RESULTS FOR 5 FOLDS\n",
            "--------------------------------\n",
            "Fold 0: 27.96 %\n",
            "Fold 1: 32.92 %\n",
            "Fold 2: 37.34 %\n",
            "Fold 3: 38.46 %\n",
            "Fold 4: 41.18 %\n",
            "Fold 5: 43.18 %\n",
            "Average: 36.84 %\n",
            "Fold Number 6\n",
            "-----------------------------------\n"
          ]
        },
        {
          "output_type": "execute_result",
          "data": {
            "text/plain": [
              "(torch.Size([16, 3, 32, 32]), torch.Size([16]))"
            ]
          },
          "metadata": {},
          "execution_count": 20
        },
        {
          "output_type": "stream",
          "name": "stdout",
          "text": [
            "Starting epoch 1\n",
            "Loss after mini-batch   500: 1.608\n",
            "Loss after mini-batch  1000: 1.588\n",
            "Loss after mini-batch  1500: 1.580\n",
            "Loss after mini-batch  2000: 1.597\n",
            "Loss after mini-batch  2500: 1.580\n",
            "Training process has finished. Saving trained model.\n",
            "Starting testing\n",
            "Accuracy for fold 6: 42 %\n",
            "--------------------------------\n",
            "K-FOLD CROSS VALIDATION RESULTS FOR 6 FOLDS\n",
            "--------------------------------\n",
            "Fold 0: 27.96 %\n",
            "Fold 1: 32.92 %\n",
            "Fold 2: 37.34 %\n",
            "Fold 3: 38.46 %\n",
            "Fold 4: 41.18 %\n",
            "Fold 5: 43.18 %\n",
            "Fold 6: 42.58 %\n",
            "Average: 37.660000000000004 %\n",
            "Fold Number 7\n",
            "-----------------------------------\n"
          ]
        },
        {
          "output_type": "execute_result",
          "data": {
            "text/plain": [
              "(torch.Size([16, 3, 32, 32]), torch.Size([16]))"
            ]
          },
          "metadata": {},
          "execution_count": 20
        },
        {
          "output_type": "stream",
          "name": "stdout",
          "text": [
            "Starting epoch 1\n",
            "Loss after mini-batch   500: 1.553\n",
            "Loss after mini-batch  1000: 1.580\n",
            "Loss after mini-batch  1500: 1.568\n",
            "Loss after mini-batch  2000: 1.547\n",
            "Loss after mini-batch  2500: 1.591\n",
            "Training process has finished. Saving trained model.\n",
            "Starting testing\n",
            "Accuracy for fold 7: 45 %\n",
            "--------------------------------\n",
            "K-FOLD CROSS VALIDATION RESULTS FOR 7 FOLDS\n",
            "--------------------------------\n",
            "Fold 0: 27.96 %\n",
            "Fold 1: 32.92 %\n",
            "Fold 2: 37.34 %\n",
            "Fold 3: 38.46 %\n",
            "Fold 4: 41.18 %\n",
            "Fold 5: 43.18 %\n",
            "Fold 6: 42.58 %\n",
            "Fold 7: 45.1 %\n",
            "Average: 38.59 %\n",
            "Fold Number 8\n",
            "-----------------------------------\n"
          ]
        },
        {
          "output_type": "execute_result",
          "data": {
            "text/plain": [
              "(torch.Size([16, 3, 32, 32]), torch.Size([16]))"
            ]
          },
          "metadata": {},
          "execution_count": 20
        },
        {
          "output_type": "stream",
          "name": "stdout",
          "text": [
            "Starting epoch 1\n",
            "Loss after mini-batch   500: 1.524\n",
            "Loss after mini-batch  1000: 1.528\n",
            "Loss after mini-batch  1500: 1.538\n",
            "Loss after mini-batch  2000: 1.551\n",
            "Loss after mini-batch  2500: 1.548\n",
            "Training process has finished. Saving trained model.\n",
            "Starting testing\n",
            "Accuracy for fold 8: 45 %\n",
            "--------------------------------\n",
            "K-FOLD CROSS VALIDATION RESULTS FOR 8 FOLDS\n",
            "--------------------------------\n",
            "Fold 0: 27.96 %\n",
            "Fold 1: 32.92 %\n",
            "Fold 2: 37.34 %\n",
            "Fold 3: 38.46 %\n",
            "Fold 4: 41.18 %\n",
            "Fold 5: 43.18 %\n",
            "Fold 6: 42.58 %\n",
            "Fold 7: 45.1 %\n",
            "Fold 8: 45.82 %\n",
            "Average: 39.39333333333334 %\n",
            "Fold Number 9\n",
            "-----------------------------------\n"
          ]
        },
        {
          "output_type": "execute_result",
          "data": {
            "text/plain": [
              "(torch.Size([16, 3, 32, 32]), torch.Size([16]))"
            ]
          },
          "metadata": {},
          "execution_count": 20
        },
        {
          "output_type": "stream",
          "name": "stdout",
          "text": [
            "Starting epoch 1\n",
            "Loss after mini-batch   500: 1.520\n",
            "Loss after mini-batch  1000: 1.520\n",
            "Loss after mini-batch  1500: 1.511\n",
            "Loss after mini-batch  2000: 1.503\n",
            "Loss after mini-batch  2500: 1.514\n",
            "Training process has finished. Saving trained model.\n",
            "Starting testing\n",
            "Accuracy for fold 9: 47 %\n",
            "--------------------------------\n",
            "K-FOLD CROSS VALIDATION RESULTS FOR 9 FOLDS\n",
            "--------------------------------\n",
            "Fold 0: 27.96 %\n",
            "Fold 1: 32.92 %\n",
            "Fold 2: 37.34 %\n",
            "Fold 3: 38.46 %\n",
            "Fold 4: 41.18 %\n",
            "Fold 5: 43.18 %\n",
            "Fold 6: 42.58 %\n",
            "Fold 7: 45.1 %\n",
            "Fold 8: 45.82 %\n",
            "Fold 9: 47.0 %\n",
            "Average: 40.154 %\n"
          ]
        }
      ]
    },
    {
      "cell_type": "markdown",
      "source": [
        "#ResNet18"
      ],
      "metadata": {
        "id": "Fwme20Qmc8yE"
      }
    },
    {
      "cell_type": "code",
      "execution_count": null,
      "metadata": {
        "colab": {
          "base_uri": "https://localhost:8080/",
          "height": 1000
        },
        "id": "ZFcxylevmxrF",
        "outputId": "894b0af0-54db-439b-cd91-1eea03072f28"
      },
      "outputs": [
        {
          "output_type": "stream",
          "name": "stdout",
          "text": [
            "Train data shape:  (49000, 3, 32, 32)\n",
            "Train labels shape:  (49000,)\n",
            "Validation data shape:  (1000, 3, 32, 32)\n",
            "Validation labels shape:  (1000,)\n",
            "Test data shape:  (1000, 3, 32, 32)\n",
            "Test labels shape:  (1000,)\n"
          ]
        },
        {
          "output_type": "execute_result",
          "data": {
            "text/plain": [
              "(torch.Size([16, 3, 32, 32]), torch.Size([16]))"
            ]
          },
          "metadata": {},
          "execution_count": 9
        },
        {
          "output_type": "stream",
          "name": "stdout",
          "text": [
            "Starting Training from Scratch.\n",
            "\n",
            "\n",
            "Epoch: 0 \tTraining Loss: 1.8905 \tValidation Loss: 1.6645\n",
            "\t\tTraining Accuracy: 32.11%\t Validation Accuracy: 38.70%\n",
            "\n",
            "Epoch: 1 \tTraining Loss: 1.6309 \tValidation Loss: 1.5094\n",
            "\t\tTraining Accuracy: 40.78%\t Validation Accuracy: 47.40%\n",
            "\n",
            "Epoch: 2 \tTraining Loss: 1.5144 \tValidation Loss: 1.4665\n",
            "\t\tTraining Accuracy: 45.53%\t Validation Accuracy: 47.10%\n",
            "\n",
            "Epoch: 3 \tTraining Loss: 1.4259 \tValidation Loss: 1.4394\n",
            "\t\tTraining Accuracy: 49.01%\t Validation Accuracy: 48.70%\n",
            "\n",
            "Epoch: 4 \tTraining Loss: 1.3483 \tValidation Loss: 1.4636\n",
            "\t\tTraining Accuracy: 51.65%\t Validation Accuracy: 46.10%\n",
            "\n",
            "Epoch: 5 \tTraining Loss: 1.2747 \tValidation Loss: 1.4474\n",
            "\t\tTraining Accuracy: 54.16%\t Validation Accuracy: 48.90%\n",
            "\n",
            "Epoch: 6 \tTraining Loss: 1.2092 \tValidation Loss: 1.4324\n",
            "\t\tTraining Accuracy: 56.54%\t Validation Accuracy: 50.80%\n",
            "\n",
            "Epoch: 7 \tTraining Loss: 1.1389 \tValidation Loss: 1.4340\n",
            "\t\tTraining Accuracy: 59.40%\t Validation Accuracy: 51.20%\n",
            "\n",
            "Epoch: 8 \tTraining Loss: 1.0752 \tValidation Loss: 1.3493\n",
            "\t\tTraining Accuracy: 61.46%\t Validation Accuracy: 54.80%\n",
            "\n",
            "Epoch: 9 \tTraining Loss: 1.0077 \tValidation Loss: 1.3630\n",
            "\t\tTraining Accuracy: 63.99%\t Validation Accuracy: 54.10%\n",
            "\n",
            "Epoch: 10 \tTraining Loss: 0.9482 \tValidation Loss: 1.3964\n",
            "\t\tTraining Accuracy: 66.17%\t Validation Accuracy: 53.40%\n",
            "\n",
            "Epoch: 11 \tTraining Loss: 0.8781 \tValidation Loss: 1.3704\n",
            "\t\tTraining Accuracy: 68.51%\t Validation Accuracy: 55.50%\n",
            "\n",
            "Epoch: 12 \tTraining Loss: 0.8196 \tValidation Loss: 1.3492\n",
            "\t\tTraining Accuracy: 70.48%\t Validation Accuracy: 54.50%\n",
            "\n",
            "Epoch: 13 \tTraining Loss: 0.7558 \tValidation Loss: 1.4174\n",
            "\t\tTraining Accuracy: 72.90%\t Validation Accuracy: 54.30%\n",
            "\n",
            "Epoch: 14 \tTraining Loss: 0.6938 \tValidation Loss: 1.5556\n",
            "\t\tTraining Accuracy: 75.20%\t Validation Accuracy: 52.10%\n",
            "\n",
            "Epoch: 15 \tTraining Loss: 0.6331 \tValidation Loss: 1.5893\n",
            "\t\tTraining Accuracy: 77.41%\t Validation Accuracy: 52.40%\n",
            "\n",
            "Epoch: 16 \tTraining Loss: 0.5716 \tValidation Loss: 1.5638\n",
            "\t\tTraining Accuracy: 79.53%\t Validation Accuracy: 54.10%\n",
            "\n",
            "Epoch: 17 \tTraining Loss: 0.5233 \tValidation Loss: 1.6646\n",
            "\t\tTraining Accuracy: 81.29%\t Validation Accuracy: 53.70%\n",
            "\n",
            "Epoch: 18 \tTraining Loss: 0.4702 \tValidation Loss: 1.7535\n",
            "\t\tTraining Accuracy: 83.10%\t Validation Accuracy: 51.30%\n",
            "\n",
            "Early Stopping! Total epochs: 18. Best epoch: 12 with loss: 1.35 and acc: 51.30%\n",
            "846.53 total seconds elapsed. 44.55 seconds per epoch.\n"
          ]
        },
        {
          "output_type": "execute_result",
          "data": {
            "text/plain": [
              "<Figure size 576x432 with 0 Axes>"
            ]
          },
          "metadata": {},
          "execution_count": 9
        },
        {
          "output_type": "execute_result",
          "data": {
            "text/plain": [
              "[<matplotlib.lines.Line2D at 0x7fc40b0a8410>]"
            ]
          },
          "metadata": {},
          "execution_count": 9
        },
        {
          "output_type": "execute_result",
          "data": {
            "text/plain": [
              "[<matplotlib.lines.Line2D at 0x7fc40b191290>]"
            ]
          },
          "metadata": {},
          "execution_count": 9
        },
        {
          "output_type": "execute_result",
          "data": {
            "text/plain": [
              "<matplotlib.legend.Legend at 0x7fc40b1db1d0>"
            ]
          },
          "metadata": {},
          "execution_count": 9
        },
        {
          "output_type": "execute_result",
          "data": {
            "text/plain": [
              "Text(0.5, 0, 'Epoch')"
            ]
          },
          "metadata": {},
          "execution_count": 9
        },
        {
          "output_type": "execute_result",
          "data": {
            "text/plain": [
              "Text(0, 0.5, 'Average Negative Log Likelihood')"
            ]
          },
          "metadata": {},
          "execution_count": 9
        },
        {
          "output_type": "execute_result",
          "data": {
            "text/plain": [
              "Text(0.5, 1.0, 'Training and Validation Losses')"
            ]
          },
          "metadata": {},
          "execution_count": 9
        },
        {
          "output_type": "display_data",
          "data": {
            "text/plain": [
              "<Figure size 576x432 with 1 Axes>"
            ],
            "image/png": "[encoded data removed]"
          },
          "metadata": {
            "needs_background": "light"
          }
        },
        {
          "output_type": "execute_result",
          "data": {
            "text/plain": [
              "<Figure size 576x432 with 0 Axes>"
            ]
          },
          "metadata": {},
          "execution_count": 9
        },
        {
          "output_type": "execute_result",
          "data": {
            "text/plain": [
              "[<matplotlib.lines.Line2D at 0x7fc408e26e10>]"
            ]
          },
          "metadata": {},
          "execution_count": 9
        },
        {
          "output_type": "execute_result",
          "data": {
            "text/plain": [
              "[<matplotlib.lines.Line2D at 0x7fc40b13e090>]"
            ]
          },
          "metadata": {},
          "execution_count": 9
        },
        {
          "output_type": "execute_result",
          "data": {
            "text/plain": [
              "<matplotlib.legend.Legend at 0x7fc413140710>"
            ]
          },
          "metadata": {},
          "execution_count": 9
        },
        {
          "output_type": "execute_result",
          "data": {
            "text/plain": [
              "Text(0.5, 0, 'Epoch')"
            ]
          },
          "metadata": {},
          "execution_count": 9
        },
        {
          "output_type": "execute_result",
          "data": {
            "text/plain": [
              "Text(0, 0.5, 'Average Accuracy')"
            ]
          },
          "metadata": {},
          "execution_count": 9
        },
        {
          "output_type": "execute_result",
          "data": {
            "text/plain": [
              "Text(0.5, 1.0, 'Training and Validation Accuracy')"
            ]
          },
          "metadata": {},
          "execution_count": 9
        },
        {
          "output_type": "display_data",
          "data": {
            "text/plain": [
              "<Figure size 576x432 with 1 Axes>"
            ],
            "image/png": "[encoded data removed]"
          },
          "metadata": {
            "needs_background": "light"
          }
        },
        {
          "output_type": "stream",
          "name": "stdout",
          "text": [
            "Best accuracy in validation history is 55.50000000000001%\n"
          ]
        }
      ],
      "source": [
        "\n",
        "\n",
        "# Cleaning up variables to prevent loading data multiple times (which may cause memory issue)\n",
        "try:\n",
        "   del train_X, train_Y\n",
        "   del test_X, test_Y\n",
        "   del validation_X, validation_Y\n",
        "   print('Clear previously loaded data.')\n",
        "except:\n",
        "   pass\n",
        "train_X, train_Y, validation_X, validation_Y, test_X, test_Y = get_CIFAR10_data()\n",
        "\n",
        "\n",
        "\n",
        "# Invoke the above function to get our data.\n",
        "print('Train data shape: ', train_X.shape)\n",
        "print('Train labels shape: ', train_Y.shape)\n",
        "print('Validation data shape: ', validation_X.shape)\n",
        "print('Validation labels shape: ', validation_Y.shape)\n",
        "print('Test data shape: ', test_X.shape)\n",
        "print('Test labels shape: ', test_Y.shape)\n",
        "\n",
        "\n",
        "resnet18 = models.resnet18()\n",
        "resnet18.fc = nn.Linear(resnet18.fc.in_features,10)\n",
        "criterion = nn.CrossEntropyLoss()\n",
        "optimizer = optim.SGD(resnet18.parameters(),lr=0.01)\n",
        "batch_size = 16\n",
        "# Transfer the data from numpy to tensor\n",
        "data = {\n",
        "    'train':\n",
        "    TensorDataset(torch.from_numpy(train_X).float(), torch.from_numpy(train_Y).to(torch.long)),\n",
        "    'valid':\n",
        "    TensorDataset(torch.from_numpy(test_X).float(), torch.from_numpy(test_Y).to(torch.long))\n",
        "\n",
        "}\n",
        "\n",
        "\n",
        "# Dataloader iterators, make sure to shuffle\n",
        "dataloaders = {\n",
        "    'train': DataLoader(data['train'], batch_size=batch_size, shuffle=True,num_workers=2),\n",
        "    'valid': DataLoader(data['valid'], batch_size=batch_size, shuffle=False,num_workers=2)\n",
        "}\n",
        "\n",
        "\n",
        "# Iterate through the dataloader once\n",
        "trainiter = iter(dataloaders['train'])\n",
        "features, labels = next(trainiter)\n",
        "features.shape, labels.shape\n",
        "save_file_name = f'resnet18_model_best_model.pt'\n",
        "train_on_gpu = cuda.is_available()\n",
        "model, history = train(resnet18,\n",
        "    criterion,\n",
        "    optimizer,\n",
        "    dataloaders['train'], \n",
        "    dataloaders['valid'],\n",
        "    save_file_name=save_file_name,\n",
        "    max_epochs_stop=6,\n",
        "    n_epochs=500,\n",
        "    print_every=1)\n",
        "\n",
        "plt.figure(figsize=(8, 6))\n",
        "for c in ['train_loss', 'valid_loss']:\n",
        "    plt.plot(\n",
        "        history[c], label=c)\n",
        "plt.legend()\n",
        "plt.xlabel('Epoch')\n",
        "plt.ylabel('Average Negative Log Likelihood')\n",
        "plt.title('Training and Validation Losses')\n",
        "plt.show()\n",
        "\n",
        "plt.figure(figsize=(8, 6))\n",
        "for c in ['train_acc', 'valid_acc']:\n",
        "    plt.plot(\n",
        "        100 * history[c], label=c)\n",
        "plt.legend()\n",
        "plt.xlabel('Epoch')\n",
        "plt.ylabel('Average Accuracy')\n",
        "plt.title('Training and Validation Accuracy')\n",
        "plt.show()\n",
        "bestAccVal = max(history['valid_acc'])*100\n",
        "print('Best accuracy in validation history is {0}%'.format(bestAccVal))\n",
        "\n",
        "\n"
      ]
    },
    {
      "cell_type": "markdown",
      "source": [
        "###ResNet-18 Cross Validation"
      ],
      "metadata": {
        "id": "Pax5So4j42o5"
      }
    },
    {
      "cell_type": "code",
      "source": [
        "from sklearn.model_selection import KFold\n",
        "from torch.utils.data import ConcatDataset,SubsetRandomSampler\n",
        "\n",
        "\n",
        "# Cleaning up variables to prevent loading data multiple times (which may cause memory issue)\n",
        "try:\n",
        "   del train_X, train_Y\n",
        "   del test_X, test_Y\n",
        "   del validation_X, validation_Y\n",
        "   print('Clear previously loaded data.')\n",
        "except:\n",
        "   pass\n",
        "# Invoke the above function to get our data.\n",
        "train_X, train_Y, validation_X, validation_Y, test_X, test_Y = get_CIFAR10_data()\n",
        "print('Train data shape: ', train_X.shape)\n",
        "print('Train labels shape: ', train_Y.shape)\n",
        "print('Validation data shape: ', validation_X.shape)\n",
        "print('Validation labels shape: ', validation_Y.shape)\n",
        "print('Test data shape: ', test_X.shape)\n",
        "print('Test labels shape: ', test_Y.shape)\n",
        "\n",
        "num_kFolds = 10\n",
        "response = {}\n",
        "num_epochs = 1\n",
        "\n",
        "criterion = nn.CrossEntropyLoss()\n",
        "\n",
        "batch_size = 16\n",
        "# Transfer the data from numpy to tensor\n",
        "data = {\n",
        "    'train':\n",
        "    TensorDataset(torch.from_numpy(train_X).float(), torch.from_numpy(train_Y).to(torch.long)),\n",
        "    'valid':\n",
        "    TensorDataset(torch.from_numpy(test_X).float(), torch.from_numpy(test_Y).to(torch.long))\n",
        "\n",
        "}\n",
        "\n",
        "ConcatDS = ConcatDataset([data['train'],data['valid']])\n",
        "kf = KFold(n_splits=num_kFolds,shuffle=True)\n",
        "resnet18 = models.resnet18()\n",
        "resnet18.fc = nn.Linear(resnet18.fc.in_features,10)\n",
        "criterion = nn.CrossEntropyLoss()\n",
        "optimizer = optim.SGD(resnet18.parameters(),lr=0.01)\n",
        "for fold,(train,test) in enumerate(kf.split(ConcatDS)):\n",
        "  print(f'Fold Number {fold}')\n",
        "  print('-----------------------------------')\n",
        "  train_sample = SubsetRandomSampler(train)\n",
        "  test_sample = SubsetRandomSampler(test) \n",
        "  # Dataloader iterators, make sure to shuffle\n",
        "  dataloaders = {\n",
        "      'train': DataLoader(ConcatDS, batch_size=batch_size, shuffle=False,num_workers=2, sampler=train_sample),\n",
        "      'valid': DataLoader(ConcatDS, batch_size=batch_size, shuffle=False,num_workers=2, sampler=test_sample)\n",
        "  }\n",
        "  # Iterate through the dataloader once\n",
        "  trainiter = iter(dataloaders['train'])\n",
        "  features, labels = next(trainiter)\n",
        "  features.shape, labels.shape\n",
        "  save_file_name = f'CNN_model_fold_{fold}.pt'\n",
        "  train_on_gpu = cuda.is_available()\n",
        "\n",
        "  for epoch in range(0, num_epochs):\n",
        "      # Print epoch\n",
        "      print(f'Starting epoch {epoch+1}')\n",
        "\n",
        "      # Set current loss value\n",
        "      current_loss = 0.0\n",
        "\n",
        "      # Iterate over the DataLoader for training data\n",
        "      for i, data in enumerate(dataloaders['train'], 0):\n",
        "        \n",
        "        # Get inputs\n",
        "        inputs, targets = data\n",
        "        \n",
        "        # Zero the gradients\n",
        "        optimizer.zero_grad()\n",
        "        \n",
        "        # Perform forward pass\n",
        "        outputs = resnet18(inputs)\n",
        "        \n",
        "        # Compute loss\n",
        "        loss = criterion(outputs, targets)\n",
        "        \n",
        "        # Perform backward pass\n",
        "        loss.backward()\n",
        "        \n",
        "        # Perform optimization\n",
        "        optimizer.step()\n",
        "        \n",
        "        # Print statistics\n",
        "        current_loss += loss.item()\n",
        "        if i % 500 == 499:\n",
        "            print('Loss after mini-batch %5d: %.3f' %\n",
        "                  (i + 1, current_loss / 500))\n",
        "            current_loss = 0.0\n",
        "            \n",
        "    # Process is complete.\n",
        "      print('Training process has finished. Saving trained model.')\n",
        "\n",
        "    # Print about testing\n",
        "      print('Starting testing')\n",
        "    \n",
        "    # Saving the model\n",
        "      save_path = f'./model-fold-{fold}.pth'\n",
        "      torch.save(resnet18.state_dict(), save_path)\n",
        "\n",
        "    # Evaluationfor this fold\n",
        "      correct, total = 0, 0\n",
        "\n",
        "  with torch.no_grad():\n",
        "\n",
        "      # Iterate over the test data and generate predictions\n",
        "      for i, data in enumerate(dataloaders['valid'], 0):\n",
        "\n",
        "        # Get inputs\n",
        "        inputs, targets = data\n",
        "\n",
        "        # Generate outputs\n",
        "        outputs = resnet18(inputs)\n",
        "\n",
        "        # Set total and correct\n",
        "        _, predicted = torch.max(outputs.data, 1)\n",
        "        total += targets.size(0)\n",
        "        correct += (predicted == targets).sum().item()\n",
        "\n",
        "      # Print accuracy\n",
        "      print('Accuracy for fold %d: %d %%' % (fold, 100.0 * correct / total))\n",
        "      print('--------------------------------')\n",
        "      response[fold] = 100.0 * (correct / total)\n",
        "    \n",
        "  # Print fold results\n",
        "  print(f'K-FOLD CROSS VALIDATION RESULTS FOR {fold} FOLDS')\n",
        "  print('--------------------------------')\n",
        "  sum = 0.0\n",
        "  for key, value in response.items():\n",
        "    print(f'Fold {key}: {value} %')\n",
        "    sum += value\n",
        "  print(f'Average: {sum/len(response.items())} %')\n",
        "\n"
      ],
      "metadata": {
        "id": "cNURTmPj41j0",
        "colab": {
          "base_uri": "https://localhost:8080/"
        },
        "outputId": "7b1caa2d-ea33-4b85-d796-c5ea42b1b949"
      },
      "execution_count": null,
      "outputs": [
        {
          "output_type": "stream",
          "name": "stdout",
          "text": [
            "Clear previously loaded data.\n",
            "Train data shape:  (49000, 3, 32, 32)\n",
            "Train labels shape:  (49000,)\n",
            "Validation data shape:  (1000, 3, 32, 32)\n",
            "Validation labels shape:  (1000,)\n",
            "Test data shape:  (1000, 3, 32, 32)\n",
            "Test labels shape:  (1000,)\n",
            "Fold Number 0\n",
            "-----------------------------------\n"
          ]
        },
        {
          "output_type": "execute_result",
          "data": {
            "text/plain": [
              "(torch.Size([16, 3, 32, 32]), torch.Size([16]))"
            ]
          },
          "metadata": {},
          "execution_count": 23
        },
        {
          "output_type": "stream",
          "name": "stdout",
          "text": [
            "Starting epoch 1\n",
            "Loss after mini-batch   500: 2.190\n",
            "Loss after mini-batch  1000: 2.002\n",
            "Loss after mini-batch  1500: 1.911\n",
            "Loss after mini-batch  2000: 1.835\n",
            "Loss after mini-batch  2500: 1.773\n",
            "Training process has finished. Saving trained model.\n",
            "Starting testing\n",
            "Accuracy for fold 0: 35 %\n",
            "--------------------------------\n",
            "K-FOLD CROSS VALIDATION RESULTS FOR 0 FOLDS\n",
            "--------------------------------\n",
            "Fold 0: 35.02 %\n",
            "Average: 35.02 %\n",
            "Fold Number 1\n",
            "-----------------------------------\n"
          ]
        },
        {
          "output_type": "execute_result",
          "data": {
            "text/plain": [
              "(torch.Size([16, 3, 32, 32]), torch.Size([16]))"
            ]
          },
          "metadata": {},
          "execution_count": 23
        },
        {
          "output_type": "stream",
          "name": "stdout",
          "text": [
            "Starting epoch 1\n",
            "Loss after mini-batch   500: 1.717\n",
            "Loss after mini-batch  1000: 1.684\n",
            "Loss after mini-batch  1500: 1.676\n",
            "Loss after mini-batch  2000: 1.648\n",
            "Loss after mini-batch  2500: 1.651\n",
            "Training process has finished. Saving trained model.\n",
            "Starting testing\n",
            "Accuracy for fold 1: 38 %\n",
            "--------------------------------\n",
            "K-FOLD CROSS VALIDATION RESULTS FOR 1 FOLDS\n",
            "--------------------------------\n",
            "Fold 0: 35.02 %\n",
            "Fold 1: 38.32 %\n",
            "Average: 36.67 %\n",
            "Fold Number 2\n",
            "-----------------------------------\n"
          ]
        },
        {
          "output_type": "execute_result",
          "data": {
            "text/plain": [
              "(torch.Size([16, 3, 32, 32]), torch.Size([16]))"
            ]
          },
          "metadata": {},
          "execution_count": 23
        },
        {
          "output_type": "stream",
          "name": "stdout",
          "text": [
            "Starting epoch 1\n",
            "Loss after mini-batch   500: 1.580\n",
            "Loss after mini-batch  1000: 1.579\n",
            "Loss after mini-batch  1500: 1.552\n",
            "Loss after mini-batch  2000: 1.525\n",
            "Loss after mini-batch  2500: 1.541\n",
            "Training process has finished. Saving trained model.\n",
            "Starting testing\n",
            "Accuracy for fold 2: 42 %\n",
            "--------------------------------\n",
            "K-FOLD CROSS VALIDATION RESULTS FOR 2 FOLDS\n",
            "--------------------------------\n",
            "Fold 0: 35.02 %\n",
            "Fold 1: 38.32 %\n",
            "Fold 2: 42.54 %\n",
            "Average: 38.626666666666665 %\n",
            "Fold Number 3\n",
            "-----------------------------------\n"
          ]
        },
        {
          "output_type": "execute_result",
          "data": {
            "text/plain": [
              "(torch.Size([16, 3, 32, 32]), torch.Size([16]))"
            ]
          },
          "metadata": {},
          "execution_count": 23
        },
        {
          "output_type": "stream",
          "name": "stdout",
          "text": [
            "Starting epoch 1\n",
            "Loss after mini-batch   500: 1.472\n",
            "Loss after mini-batch  1000: 1.450\n",
            "Loss after mini-batch  1500: 1.436\n",
            "Loss after mini-batch  2000: 1.455\n",
            "Loss after mini-batch  2500: 1.450\n",
            "Training process has finished. Saving trained model.\n",
            "Starting testing\n",
            "Accuracy for fold 3: 50 %\n",
            "--------------------------------\n",
            "K-FOLD CROSS VALIDATION RESULTS FOR 3 FOLDS\n",
            "--------------------------------\n",
            "Fold 0: 35.02 %\n",
            "Fold 1: 38.32 %\n",
            "Fold 2: 42.54 %\n",
            "Fold 3: 50.72 %\n",
            "Average: 41.65 %\n",
            "Fold Number 4\n",
            "-----------------------------------\n"
          ]
        },
        {
          "output_type": "execute_result",
          "data": {
            "text/plain": [
              "(torch.Size([16, 3, 32, 32]), torch.Size([16]))"
            ]
          },
          "metadata": {},
          "execution_count": 23
        },
        {
          "output_type": "stream",
          "name": "stdout",
          "text": [
            "Starting epoch 1\n",
            "Loss after mini-batch   500: 1.367\n",
            "Loss after mini-batch  1000: 1.389\n",
            "Loss after mini-batch  1500: 1.354\n",
            "Loss after mini-batch  2000: 1.373\n",
            "Loss after mini-batch  2500: 1.377\n",
            "Training process has finished. Saving trained model.\n",
            "Starting testing\n",
            "Accuracy for fold 4: 50 %\n",
            "--------------------------------\n",
            "K-FOLD CROSS VALIDATION RESULTS FOR 4 FOLDS\n",
            "--------------------------------\n",
            "Fold 0: 35.02 %\n",
            "Fold 1: 38.32 %\n",
            "Fold 2: 42.54 %\n",
            "Fold 3: 50.72 %\n",
            "Fold 4: 50.86000000000001 %\n",
            "Average: 43.492000000000004 %\n",
            "Fold Number 5\n",
            "-----------------------------------\n"
          ]
        },
        {
          "output_type": "execute_result",
          "data": {
            "text/plain": [
              "(torch.Size([16, 3, 32, 32]), torch.Size([16]))"
            ]
          },
          "metadata": {},
          "execution_count": 23
        },
        {
          "output_type": "stream",
          "name": "stdout",
          "text": [
            "Starting epoch 1\n",
            "Loss after mini-batch   500: 1.283\n",
            "Loss after mini-batch  1000: 1.292\n",
            "Loss after mini-batch  1500: 1.286\n",
            "Loss after mini-batch  2000: 1.306\n",
            "Loss after mini-batch  2500: 1.307\n",
            "Training process has finished. Saving trained model.\n",
            "Starting testing\n",
            "Accuracy for fold 5: 52 %\n",
            "--------------------------------\n",
            "K-FOLD CROSS VALIDATION RESULTS FOR 5 FOLDS\n",
            "--------------------------------\n",
            "Fold 0: 35.02 %\n",
            "Fold 1: 38.32 %\n",
            "Fold 2: 42.54 %\n",
            "Fold 3: 50.72 %\n",
            "Fold 4: 50.86000000000001 %\n",
            "Fold 5: 52.14 %\n",
            "Average: 44.93333333333334 %\n",
            "Fold Number 6\n",
            "-----------------------------------\n"
          ]
        },
        {
          "output_type": "execute_result",
          "data": {
            "text/plain": [
              "(torch.Size([16, 3, 32, 32]), torch.Size([16]))"
            ]
          },
          "metadata": {},
          "execution_count": 23
        },
        {
          "output_type": "stream",
          "name": "stdout",
          "text": [
            "Starting epoch 1\n",
            "Loss after mini-batch   500: 1.217\n",
            "Loss after mini-batch  1000: 1.251\n",
            "Loss after mini-batch  1500: 1.228\n",
            "Loss after mini-batch  2000: 1.223\n",
            "Loss after mini-batch  2500: 1.224\n",
            "Training process has finished. Saving trained model.\n",
            "Starting testing\n",
            "Accuracy for fold 6: 51 %\n",
            "--------------------------------\n",
            "K-FOLD CROSS VALIDATION RESULTS FOR 6 FOLDS\n",
            "--------------------------------\n",
            "Fold 0: 35.02 %\n",
            "Fold 1: 38.32 %\n",
            "Fold 2: 42.54 %\n",
            "Fold 3: 50.72 %\n",
            "Fold 4: 50.86000000000001 %\n",
            "Fold 5: 52.14 %\n",
            "Fold 6: 51.88 %\n",
            "Average: 45.925714285714285 %\n",
            "Fold Number 7\n",
            "-----------------------------------\n"
          ]
        },
        {
          "output_type": "execute_result",
          "data": {
            "text/plain": [
              "(torch.Size([16, 3, 32, 32]), torch.Size([16]))"
            ]
          },
          "metadata": {},
          "execution_count": 23
        },
        {
          "output_type": "stream",
          "name": "stdout",
          "text": [
            "Starting epoch 1\n",
            "Loss after mini-batch   500: 1.149\n",
            "Loss after mini-batch  1000: 1.175\n",
            "Loss after mini-batch  1500: 1.179\n",
            "Loss after mini-batch  2000: 1.153\n",
            "Loss after mini-batch  2500: 1.174\n",
            "Training process has finished. Saving trained model.\n",
            "Starting testing\n",
            "Accuracy for fold 7: 59 %\n",
            "--------------------------------\n",
            "K-FOLD CROSS VALIDATION RESULTS FOR 7 FOLDS\n",
            "--------------------------------\n",
            "Fold 0: 35.02 %\n",
            "Fold 1: 38.32 %\n",
            "Fold 2: 42.54 %\n",
            "Fold 3: 50.72 %\n",
            "Fold 4: 50.86000000000001 %\n",
            "Fold 5: 52.14 %\n",
            "Fold 6: 51.88 %\n",
            "Fold 7: 59.12 %\n",
            "Average: 47.575 %\n",
            "Fold Number 8\n",
            "-----------------------------------\n"
          ]
        },
        {
          "output_type": "execute_result",
          "data": {
            "text/plain": [
              "(torch.Size([16, 3, 32, 32]), torch.Size([16]))"
            ]
          },
          "metadata": {},
          "execution_count": 23
        },
        {
          "output_type": "stream",
          "name": "stdout",
          "text": [
            "Starting epoch 1\n",
            "Loss after mini-batch   500: 1.066\n",
            "Loss after mini-batch  1000: 1.113\n",
            "Loss after mini-batch  1500: 1.084\n",
            "Loss after mini-batch  2000: 1.103\n",
            "Loss after mini-batch  2500: 1.137\n",
            "Training process has finished. Saving trained model.\n",
            "Starting testing\n",
            "Accuracy for fold 8: 61 %\n",
            "--------------------------------\n",
            "K-FOLD CROSS VALIDATION RESULTS FOR 8 FOLDS\n",
            "--------------------------------\n",
            "Fold 0: 35.02 %\n",
            "Fold 1: 38.32 %\n",
            "Fold 2: 42.54 %\n",
            "Fold 3: 50.72 %\n",
            "Fold 4: 50.86000000000001 %\n",
            "Fold 5: 52.14 %\n",
            "Fold 6: 51.88 %\n",
            "Fold 7: 59.12 %\n",
            "Fold 8: 61.82 %\n",
            "Average: 49.15777777777778 %\n",
            "Fold Number 9\n",
            "-----------------------------------\n"
          ]
        },
        {
          "output_type": "execute_result",
          "data": {
            "text/plain": [
              "(torch.Size([16, 3, 32, 32]), torch.Size([16]))"
            ]
          },
          "metadata": {},
          "execution_count": 23
        },
        {
          "output_type": "stream",
          "name": "stdout",
          "text": [
            "Starting epoch 1\n",
            "Loss after mini-batch   500: 1.019\n",
            "Loss after mini-batch  1000: 1.030\n",
            "Loss after mini-batch  1500: 1.040\n",
            "Loss after mini-batch  2000: 1.055\n",
            "Loss after mini-batch  2500: 1.079\n",
            "Training process has finished. Saving trained model.\n",
            "Starting testing\n",
            "Accuracy for fold 9: 62 %\n",
            "--------------------------------\n",
            "K-FOLD CROSS VALIDATION RESULTS FOR 9 FOLDS\n",
            "--------------------------------\n",
            "Fold 0: 35.02 %\n",
            "Fold 1: 38.32 %\n",
            "Fold 2: 42.54 %\n",
            "Fold 3: 50.72 %\n",
            "Fold 4: 50.86000000000001 %\n",
            "Fold 5: 52.14 %\n",
            "Fold 6: 51.88 %\n",
            "Fold 7: 59.12 %\n",
            "Fold 8: 61.82 %\n",
            "Fold 9: 62.56 %\n",
            "Average: 50.498000000000005 %\n"
          ]
        }
      ]
    }
  ],
  "metadata": {
    "accelerator": "GPU",
    "colab": {
      "collapsed_sections": [],
      "name": "HW4_(1).ipynb",
      "provenance": [],
      "toc_visible": true
    },
    "kernelspec": {
      "display_name": "Python 3 (ipykernel)",
      "language": "python",
      "name": "python3"
    },
    "language_info": {
      "codemirror_mode": {
        "name": "ipython",
        "version": 3
      },
      "file_extension": ".py",
      "mimetype": "text/x-python",
      "name": "python",
      "nbconvert_exporter": "python",
      "pygments_lexer": "ipython3",
      "version": "3.9.7"
    }
  },
  "nbformat": 4,
  "nbformat_minor": 0
}